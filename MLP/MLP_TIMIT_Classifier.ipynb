{
  "nbformat": 4,
  "nbformat_minor": 0,
  "metadata": {
    "colab": {
      "name": "MLP TIMIT Classifier.ipynb",
      "version": "0.3.2",
      "provenance": [],
      "collapsed_sections": []
    },
    "kernelspec": {
      "name": "python3",
      "display_name": "Python 3"
    },
    "accelerator": "GPU"
  },
  "cells": [
    {
      "metadata": {
        "id": "-LQYlZDBKC_2",
        "colab_type": "code",
        "colab": {}
      },
      "cell_type": "code",
      "source": [
        "import pandas as pd\n",
        "import numpy as np\n",
        "from keras.models import Sequential\n",
        "from keras.layers import Dense, Dropout, Flatten\n",
        "from keras.optimizers import RMSprop, SGD, Adam\n",
        "from keras.callbacks import TensorBoard, ModelCheckpoint, EarlyStopping, ReduceLROnPlateau"
      ],
      "execution_count": 0,
      "outputs": []
    },
    {
      "metadata": {
        "id": "vmlQT0XvztK-",
        "colab_type": "code",
        "colab": {
          "base_uri": "https://localhost:8080/",
          "height": 35
        },
        "outputId": "47640e1e-649f-492f-cf17-9f1b2dff0b65"
      },
      "cell_type": "code",
      "source": [
        "!pip install tensorboardcolab"
      ],
      "execution_count": 102,
      "outputs": [
        {
          "output_type": "stream",
          "text": [
            "Requirement already satisfied: tensorboardcolab in /usr/local/lib/python3.6/dist-packages (0.0.22)\n"
          ],
          "name": "stdout"
        }
      ]
    },
    {
      "metadata": {
        "id": "Tsp5ItArKC_8",
        "colab_type": "code",
        "outputId": "a42af039-5c6c-4db2-c6b2-9708f40780af",
        "colab": {
          "base_uri": "https://localhost:8080/",
          "height": 35
        }
      },
      "cell_type": "code",
      "source": [
        "from google.colab import drive\n",
        "drive.mount('/content/gdrive')"
      ],
      "execution_count": 21,
      "outputs": [
        {
          "output_type": "stream",
          "text": [
            "Drive already mounted at /content/gdrive; to attempt to forcibly remount, call drive.mount(\"/content/gdrive\", force_remount=True).\n"
          ],
          "name": "stdout"
        }
      ]
    },
    {
      "metadata": {
        "id": "JZnfAKeYzxDD",
        "colab_type": "code",
        "colab": {
          "base_uri": "https://localhost:8080/",
          "height": 69
        },
        "outputId": "2f804273-f061-4fd3-c30a-17f85faa9e5e"
      },
      "cell_type": "code",
      "source": [
        "from tensorboardcolab import TensorBoardColab, TensorBoardColabCallback\n",
        "\n",
        "tbc=TensorBoardColab()"
      ],
      "execution_count": 103,
      "outputs": [
        {
          "output_type": "stream",
          "text": [
            "Wait for 8 seconds...\n",
            "TensorBoard link:\n",
            "http://4c452093.ngrok.io\n"
          ],
          "name": "stdout"
        }
      ]
    },
    {
      "metadata": {
        "id": "81DzimqfKDAA",
        "colab_type": "code",
        "colab": {}
      },
      "cell_type": "code",
      "source": [
        "GDRIVE_DIR = \"/content/gdrive/My Drive\""
      ],
      "execution_count": 0,
      "outputs": []
    },
    {
      "metadata": {
        "id": "k_RpbrVtKDAF",
        "colab_type": "code",
        "colab": {}
      },
      "cell_type": "code",
      "source": [
        "training_examples_limit = None  # 'None' for training on all examples\n",
        "test_examples_limit = None  # 'None' for testing on all examples\n",
        "training_data_file = '/content/gdrive/My Drive/TIMIT/train.mfcccsv'\n",
        "training_labels_file = '/content/gdrive/My Drive/TIMIT/train.targcsv'\n",
        "test_data_file = '/content/gdrive/My Drive/TIMIT/test.mfcccsv'\n",
        "test_labels_file = '/content/gdrive/My Drive/TIMIT/test.targcsv'"
      ],
      "execution_count": 0,
      "outputs": []
    },
    {
      "metadata": {
        "id": "koA3cjOkKDAL",
        "colab_type": "code",
        "colab": {}
      },
      "cell_type": "code",
      "source": [
        "def read_training_test_data():\n",
        "    # Read training data\n",
        "    df_train = pd.read_csv(training_data_file, sep=',', nrows=training_examples_limit)\n",
        "    np_train = df_train.values\n",
        "\n",
        "    df_train_labels = pd.read_csv(training_labels_file, sep=',', nrows=training_examples_limit)\n",
        "    train_labels = df_train_labels.values\n",
        "\n",
        "    # Read test data\n",
        "    df_test = pd.read_csv(test_data_file, sep=',', nrows=test_examples_limit)\n",
        "    np_test = df_test.values\n",
        "\n",
        "    df_test = pd.read_csv(test_labels_file, sep=',', nrows=test_examples_limit)\n",
        "    test_labels = df_test.values\n",
        "\n",
        "    return np_train, train_labels, np_test, test_labels"
      ],
      "execution_count": 0,
      "outputs": []
    },
    {
      "metadata": {
        "id": "Islmm7PPPlqY",
        "colab_type": "code",
        "colab": {}
      },
      "cell_type": "code",
      "source": [
        "def extract_features():\n",
        "    np_train, train_labels, np_test, test_labels = read_training_test_data()\n",
        "    return (np_train, train_labels), (np_test, test_labels)"
      ],
      "execution_count": 0,
      "outputs": []
    },
    {
      "metadata": {
        "id": "MRT7flsjQWr2",
        "colab_type": "code",
        "colab": {}
      },
      "cell_type": "code",
      "source": [
        "def neighbor_n_features(feature_vector, n):\n",
        "    firsts = np.array([feature_vector[0], feature_vector[0]])\n",
        "    lasts  = np.array([feature_vector[len(feature_vector)-1], feature_vector[len(feature_vector)-1]])\n",
        "    copy_neighbors = np.append(firsts, feature_vector, axis=0)\n",
        "    copy_neighbors = np.append(copy_neighbors, lasts, axis=0)\n",
        "    neighbors = np.array([])\n",
        "    for i, value in enumerate(feature_vector):\n",
        "        if(len(neighbors)): #if it is not empty#\n",
        "            neighbors = np.append(neighbors, np.array([copy_neighbors[i:i+n]]), axis=0)\n",
        "        else: \n",
        "            neighbors = np.array([copy_neighbors[i:i+n]])\n",
        "    #should return 3D array\n",
        "    return neighbors\n",
        "\n",
        "def extract_with_neighbor_features():\n",
        "    np_train, train_labels, np_test, test_labels = read_training_test_data()\n",
        "    neighbors_amount = 5\n",
        "    neighbors_samples = neighbor_n_features(np_train, neighbors_amount)\n",
        "    neighbors_test = neighbor_n_features(np_test, neighbors_amount)\n",
        "    return (neighbors_samples, train_labels), (neighbors_test, test_labels)"
      ],
      "execution_count": 0,
      "outputs": []
    },
    {
      "metadata": {
        "id": "eH4OmlhuQd3M",
        "colab_type": "code",
        "colab": {}
      },
      "cell_type": "code",
      "source": [
        "def extract_with_derivatives(): \n",
        "    np_train, train_labels, np_test, test_labels = read_training_test_data()\n",
        "    derivatives_training = get_dimensional_vector(np_train)\n",
        "    derivatives_test     = get_dimensional_vector(np_test)\n",
        "    dataframe_training = pd.DataFrame.from_records(derivatives_training)\n",
        "    dataframe_test = pd.DataFrame.from_records(derivatives_test)\n",
        "    dataframe_test.to_csv(test_derivative_data_file, encoding='utf-8', index=False)\n",
        "    dataframe_training.to_csv(training_derivative_data_file, encoding='utf-8', index=False)\n",
        "    np.set_printoptions(threshold=np.nan)\n",
        "    return (derivatives_training, train_labels), (derivatives_test, test_labels)\n",
        "\n",
        "def get_dimensional_vector(feature_vector):\n",
        "    first = np.array([feature_vector[0]])\n",
        "    last  = np.array([feature_vector[len(feature_vector)-1]])\n",
        "    copy_neighbors = np.append(first, feature_vector, axis=0)\n",
        "    copy_neighbors = np.append(copy_neighbors, last, axis=0)\n",
        "    neighbors = np.array([])\n",
        "    for i, value in enumerate(feature_vector):\n",
        "        if(len(neighbors)): #if it is not empty#\n",
        "            neighbors = np.append(neighbors, calculate_derivatives(copy_neighbors[i], copy_neighbors[i+1], copy_neighbors[i+2]), axis=0)\n",
        "        else: \n",
        "            neighbors = calculate_derivatives(copy_neighbors[i], copy_neighbors[i+1], copy_neighbors[i+2])\n",
        "    return neighbors\n",
        "\n",
        "def calculate_derivatives(previous, current, following):\n",
        "    delta = np.add(previous, following) / 2\n",
        "    delta_delta = np.add(np.subtract(previous, 2*current), following)\n",
        "    return np.array([np.append(current, np.append(delta, delta_delta))])"
      ],
      "execution_count": 0,
      "outputs": []
    },
    {
      "metadata": {
        "id": "s0_BaDk6OuPa",
        "colab_type": "code",
        "outputId": "f5870109-bcc8-478d-ff0c-d857d3924bd4",
        "colab": {
          "base_uri": "https://localhost:8080/",
          "height": 52
        }
      },
      "cell_type": "code",
      "source": [
        "num_classes = 40\n",
        "\n",
        "hidden_size = 1024\n",
        "batch_size = 512\n",
        "dropout_rate = 0.2\n",
        "epochs = 20\n",
        "activation_function = 'relu'\n",
        "classificaton_function = 'softmax'\n",
        "#optimizer = SGD(lr=0.1, momentum=0.0, decay=0.0, nesterov=False)\n",
        "#optimizer = Adam(lr=0.001, beta_1=0.9, beta_2=0.999, epsilon=None, decay=0.0, amsgrad=False)\n",
        "#optimizer = RMSprop(lr=0.0001, rho=0.9, epsilon=None, decay=0.0)\n",
        "#optimizer = 'adam'\n",
        "optimizer = RMSprop()\n",
        "\n",
        "MODE = \"simple\"\n",
        "\n",
        "\n",
        "if MODE == \"simple\":\n",
        "    (x_train, y_train), (x_test, y_test) = extract_features()\n",
        "elif MODE == \"neighbors\":\n",
        "    (x_train, y_train), (x_test, y_test) = extract_with_neighbor_features()\n",
        "elif MODE == \"derivatives\":\n",
        "    (x_train, y_train), (x_test, y_test) = extract_with_derivatives()\n",
        "\n",
        "    x_train = x_train.reshape(x_train.shape[0], x_train.shape[1])\n",
        "    x_test = x_test.reshape(x_test.shape[0], x_test.shape[1])\n",
        "\n",
        "print(x_train.shape[0], 'train samples')\n",
        "print(x_test.shape[0], 'test samples')"
      ],
      "execution_count": 112,
      "outputs": [
        {
          "output_type": "stream",
          "text": [
            "1422806 train samples\n",
            "519938 test samples\n"
          ],
          "name": "stdout"
        }
      ]
    },
    {
      "metadata": {
        "id": "pxi8ozxVOz3b",
        "colab_type": "code",
        "outputId": "d2ceb8b7-2fb4-4ef5-a4fc-c5457708bb90",
        "colab": {
          "base_uri": "https://localhost:8080/",
          "height": 381
        }
      },
      "cell_type": "code",
      "source": [
        "model = Sequential()\n",
        "if MODE == \"neighbors\":\n",
        "    model.add(Dense(hidden_size, activation=act_function_hidden, input_shape=(x_train[0].shape[0], x_train[0].shape[1],)))\n",
        "else:\n",
        "    model.add(Dense(hidden_size, activation=act_function_hidden, input_shape=(x_train.shape[1],)))\n",
        "#model.add(Dense(hidden_size, activation=act_function_hidden, input_shape=(13,)))\n",
        "model.add(Dropout(dropout_rate))\n",
        "\n",
        "if MODE == \"neighbors\":\n",
        "    model.add(Flatten())\n",
        "model.add(Dense(hidden_size, activation=activation_function))\n",
        "model.add(Dropout(dropout_rate))\n",
        "model.add(Dense(hidden_size, activation=activation_function))\n",
        "model.add(Dropout(dropout_rate))\n",
        "\n",
        "model.add(Dense(num_classes, activation=classificaton_function))\n",
        "\n",
        "model.summary()"
      ],
      "execution_count": 113,
      "outputs": [
        {
          "output_type": "stream",
          "text": [
            "_________________________________________________________________\n",
            "Layer (type)                 Output Shape              Param #   \n",
            "=================================================================\n",
            "dense_148 (Dense)            (None, 1024)              14336     \n",
            "_________________________________________________________________\n",
            "dropout_121 (Dropout)        (None, 1024)              0         \n",
            "_________________________________________________________________\n",
            "dense_149 (Dense)            (None, 1024)              1049600   \n",
            "_________________________________________________________________\n",
            "dropout_122 (Dropout)        (None, 1024)              0         \n",
            "_________________________________________________________________\n",
            "dense_150 (Dense)            (None, 1024)              1049600   \n",
            "_________________________________________________________________\n",
            "dropout_123 (Dropout)        (None, 1024)              0         \n",
            "_________________________________________________________________\n",
            "dense_151 (Dense)            (None, 40)                41000     \n",
            "=================================================================\n",
            "Total params: 2,154,536\n",
            "Trainable params: 2,154,536\n",
            "Non-trainable params: 0\n",
            "_________________________________________________________________\n"
          ],
          "name": "stdout"
        }
      ]
    },
    {
      "metadata": {
        "id": "Y8uf7jq5PFG-",
        "colab_type": "code",
        "outputId": "00a4aadb-9b4c-49cf-f880-e125e73dddfc",
        "colab": {
          "base_uri": "https://localhost:8080/",
          "height": 208
        }
      },
      "cell_type": "code",
      "source": [
        "model.compile(loss='categorical_crossentropy',\n",
        "              optimizer=optimizer,\n",
        "              metrics=['accuracy'])\n",
        "\n",
        "tensorBoardCallback = TensorBoard(log_dir='./logs/sequential', write_graph=True)\n",
        "earlyStopper = EarlyStopping(monitor='val_loss', min_delta=0, patience=3, verbose=0, mode='auto')\n",
        "reduce_lr = ReduceLROnPlateau(monitor='val_loss', factor=0.2, patience=5, min_lr=0.0001)\n",
        "\n",
        "history = model.fit(x_train, y_train,\n",
        "                    batch_size=batch_size,\n",
        "                    epochs=epochs,\n",
        "                    verbose=1,\n",
        "                    validation_data=(x_test, y_test),\n",
        "                    callbacks=[earlyStopper, reduce_lr, TensorBoardColabCallback(tbc)])\n",
        "\n",
        "score = model.evaluate(x_test, y_test, verbose=2)\n",
        "print('Test loss:', score[0])\n",
        "print('Test accuracy:', score[1])"
      ],
      "execution_count": 114,
      "outputs": [
        {
          "output_type": "stream",
          "text": [
            "Train on 1422806 samples, validate on 519938 samples\n",
            "Epoch 1/20\n",
            "1422806/1422806 [==============================] - 43s 30us/step - loss: 1.6183 - acc: 0.5153 - val_loss: 1.5068 - val_acc: 0.5363\n",
            "Epoch 2/20\n",
            "1422806/1422806 [==============================] - 42s 29us/step - loss: 1.5535 - acc: 0.5293 - val_loss: 1.5333 - val_acc: 0.5329\n",
            "Epoch 3/20\n",
            "1422806/1422806 [==============================] - 41s 29us/step - loss: 1.5600 - acc: 0.5293 - val_loss: 1.5176 - val_acc: 0.5352\n",
            "Epoch 4/20\n",
            "1422806/1422806 [==============================] - 42s 29us/step - loss: 1.5645 - acc: 0.5293 - val_loss: 1.5093 - val_acc: 0.5363\n",
            "Test loss: 1.509314155100379\n",
            "Test accuracy: 0.536285095530621\n"
          ],
          "name": "stdout"
        }
      ]
    },
    {
      "metadata": {
        "id": "Qh6d_rUQP28m",
        "colab_type": "code",
        "colab": {}
      },
      "cell_type": "code",
      "source": [
        ""
      ],
      "execution_count": 0,
      "outputs": []
    }
  ]
}